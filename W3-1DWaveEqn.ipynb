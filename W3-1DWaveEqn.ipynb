{
 "cells": [
  {
   "cell_type": "code",
   "execution_count": 1,
   "id": "f22a740d",
   "metadata": {},
   "outputs": [],
   "source": []
  },
  {
   "cell_type": "markdown",
   "id": "ac31377a",
   "metadata": {},
   "source": [
    "$$\\sum_{j=1}^oc_jf(x+k_jdx)\\approx\\sum_{i=0}^o \\frac{f^{(i)}(x)dx^i}{i!}\\sum_{j=1}^oc_jk_j$$\n",
    "\n"
   ]
  },
  {
   "cell_type": "markdown",
   "id": "0c5be622",
   "metadata": {},
   "source": [
    "fun(o,n)=b\n",
    "\n",
    "Where o is the number of points of operator to approximate nth derivative and v is the vector with coeffecients $c_j$"
   ]
  },
  {
   "cell_type": "markdown",
   "id": "f109f845",
   "metadata": {},
   "source": [
    "$$\\forall i\\neq n, \\sum_{j=1}^oc_jk_j =0$$\n",
    "$$i=n, \\sum_{j=1}^oc_jk_j = \\frac{n!}{dx^n}$$"
   ]
  },
  {
   "cell_type": "markdown",
   "id": "1f848ba8",
   "metadata": {},
   "source": [
    "$$A_{o\\times o}x_{o \\times 1}=b_{o \\times 1}$$  "
   ]
  },
  {
   "cell_type": "markdown",
   "id": "736c876d",
   "metadata": {},
   "source": [
    "Given some o and n we have to construct A, b to find x\n",
    "o is always odd \n",
    "\n"
   ]
  },
  {
   "cell_type": "markdown",
   "id": "2f0a20b9",
   "metadata": {},
   "source": []
  },
  {
   "cell_type": "code",
   "execution_count": 2,
   "id": "6c05854e",
   "metadata": {},
   "outputs": [],
   "source": [
    "import numpy as np\n",
    "from math import *\n",
    "import matplotlib.pyplot as plt"
   ]
  },
  {
   "cell_type": "code",
   "execution_count": 9,
   "id": "a759897d",
   "metadata": {},
   "outputs": [
    {
     "data": {
      "text/plain": [
       "0.0"
      ]
     },
     "execution_count": 9,
     "metadata": {},
     "output_type": "execute_result"
    }
   ],
   "source": [
    "def fun(o,n):\n",
    "    A=np.zeros((o,o))\n",
    "    b=np.zeros((o,1))\n",
    "    b[n]=factorial(n)\n",
    "    for i in range(0,o):\n",
    "        for j in range(0,o):\n",
    "            A[i][j]=i*(o-5)\n",
    "\n",
    "\n",
    "\n",
    "    "
   ]
  }
 ],
 "metadata": {
  "interpreter": {
   "hash": "75384fd0ca3c2952361a90566c13d130cab84e43a6c89416ac57c7dceece1b2d"
  },
  "kernelspec": {
   "display_name": "Python 3",
   "language": "python",
   "name": "python3"
  },
  "language_info": {
   "codemirror_mode": {
    "name": "ipython",
    "version": 3
   },
   "file_extension": ".py",
   "mimetype": "text/x-python",
   "name": "python",
   "nbconvert_exporter": "python",
   "pygments_lexer": "ipython3",
   "version": "3.8.8"
  }
 },
 "nbformat": 4,
 "nbformat_minor": 5
}
